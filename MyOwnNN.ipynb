{
 "cells": [
  {
   "cell_type": "code",
   "execution_count": 165,
   "metadata": {},
   "outputs": [],
   "source": [
    "import numpy as np\n"
   ]
  },
  {
   "cell_type": "code",
   "execution_count": 320,
   "metadata": {},
   "outputs": [],
   "source": [
    "class NeuralNetwork3():\n",
    "    #init function\n",
    "    def __init__ (self, number_input, num_hidden_nodes, num_output_nodes,  learning_rate):\n",
    "        #define number of nodes\n",
    "        self.inputs = number_input\n",
    "        self.num_hid_nodes = num_hidden_nodes\n",
    "        self.num_out_nodes = num_output_nodes\n",
    "        #define learning rate and targets\n",
    "        self.learning_rate = learning_rate\n",
    "        #self.targets = targets\n",
    "        #define w koeficients from input to hidden nodes\n",
    "        #np.random.seed(20)\n",
    "        self.w_input_hidden = np.random.normal(0.0, pow(self.num_hid_nodes, -0.5), (self.num_hid_nodes,self.inputs))\n",
    "        #define w koeficients for nodes from hidden to output\n",
    "        #np.random.seed(20)\n",
    "        self.w_hid_outputs = np.random.normal(loc=0.0, scale = pow(self.num_out_nodes, -0.5)\n",
    "                                             , size=(self.num_out_nodes,self.num_hid_nodes)) \n",
    "        self.activation_function = lambda x: 1/(1 + np.exp(-x))\n",
    "    \n",
    "    def train(self, input_list, target_list):\n",
    "        inputs = np.array(input_list, ndmin=2).T\n",
    "        input_hidden = np.dot(self.w_input_hidden, inputs)\n",
    "        output_hidden = self.activation_function(input_hidden)\n",
    "        input_output = np.dot(self.w_hid_outputs, output_hidden) \n",
    "        output_output = self.activation_function(input_output)  \n",
    "        targets = np.array(target_list, ndmin=2).T\n",
    "        final_errors = targets - output_output\n",
    "        hidden_errors = np.dot(self.w_hid_outputs.T, final_errors)\n",
    "        \n",
    "        self.w_hid_outputs += self.learning_rate * np.dot((final_errors * output_output * (1 - output_output)), output_hidden.T)\n",
    "        self.w_input_hidden += self.learning_rate * np.dot((hidden_errors * output_hidden * (1 - output_hidden)), inputs.T)\n",
    "        #return self.w_hid_outputs\n",
    "        pass\n",
    "    \n",
    "    def query(self, input_list):\n",
    "        #go throw neural network\n",
    "        inputs = np.array(input_list, ndmin=2).T\n",
    "        input_hidden = np.dot(self.w_input_hidden, inputs)\n",
    "        output_hidden = self.activation_function(input_hidden)\n",
    "        input_output = np.dot(self.w_hid_outputs, output_hidden) \n",
    "        output_output = self.activation_function(input_output) \n",
    "        \n",
    "        return output_output"
   ]
  },
  {
   "cell_type": "code",
   "execution_count": 341,
   "metadata": {},
   "outputs": [],
   "source": [
    "nn = NeuralNetwork3(number_input = 784, num_hidden_nodes = 100, num_output_nodes = 10, learning_rate = 0.1)"
   ]
  },
  {
   "cell_type": "code",
   "execution_count": 274,
   "metadata": {},
   "outputs": [
    {
     "data": {
      "text/plain": [
       "784"
      ]
     },
     "execution_count": 274,
     "metadata": {},
     "output_type": "execute_result"
    }
   ],
   "source": [
    "28*28"
   ]
  },
  {
   "cell_type": "code",
   "execution_count": 332,
   "metadata": {},
   "outputs": [],
   "source": [
    "data_file = open(\"dataset\\mnist_train.csv\", \"r\")\n",
    "data_list = data_file.readlines()\n",
    "data_file.close()\n"
   ]
  },
  {
   "cell_type": "code",
   "execution_count": 342,
   "metadata": {},
   "outputs": [],
   "source": [
    "epochs = 6\n",
    "for epoch in range(epochs):\n",
    "    for item in data_list:\n",
    "        record = item.split(',')\n",
    "        target = np.zeros(10)\n",
    "        target[int(record[0])] = 0.99\n",
    "        target += 0.01\n",
    "        inputs = np.asfarray(record[1:]) / 255 * 0.99 + 0.01\n",
    "        nn.train(inputs, target)\n",
    "    pass"
   ]
  },
  {
   "cell_type": "code",
   "execution_count": 336,
   "metadata": {},
   "outputs": [],
   "source": [
    "test_file = open(\"dataset/mnist_test.csv\", \"r\")\n",
    "test_data = test_file.readlines()\n",
    "test_file.close()"
   ]
  },
  {
   "cell_type": "code",
   "execution_count": 343,
   "metadata": {},
   "outputs": [
    {
     "name": "stdout",
     "output_type": "stream",
     "text": [
      "0.9669\n"
     ]
    }
   ],
   "source": [
    "scorecard = []\n",
    "for item in test_data:\n",
    "\n",
    "    record = item.split(',')\n",
    "    target = int(record[0])\n",
    "    inputs = np.asfarray(record[1:]) / 255 * 0.99 + 0.01\n",
    "    label_list = nn.query(inputs)\n",
    "    label = np.argmax(label_list)\n",
    "    #print(\"True value is %s. Defined value is %s\" %(target, label))\n",
    "    if target == label:\n",
    "        scorecard.append(1)\n",
    "    else:\n",
    "        scorecard.append(0)\n",
    "#scorecard\n",
    "score = np.asarray(scorecard).sum() / len(np.asarray(scorecard))\n",
    "print(score)"
   ]
  },
  {
   "cell_type": "code",
   "execution_count": 348,
   "metadata": {},
   "outputs": [
    {
     "name": "stderr",
     "output_type": "stream",
     "text": [
      "C:\\Users\\Test\\Anaconda3\\lib\\site-packages\\ipykernel_launcher.py:2: DeprecationWarning: `imread` is deprecated!\n",
      "`imread` is deprecated in SciPy 1.0.0, and will be removed in 1.2.0.\n",
      "Use ``imageio.imread`` instead.\n",
      "  \n"
     ]
    }
   ],
   "source": [
    "import scipy.misc\n",
    "img_array = scipy.misc.imread(\"C:\\\\Users\\\\Test\\\\Downloads\\\\0.png\", flatten=True)\n",
    "img_data = 255.0 - img_array.reshape(784)\n",
    "img_data = (img_data / 255.0 * 0.99) + 0.01\n"
   ]
  },
  {
   "cell_type": "code",
   "execution_count": 349,
   "metadata": {},
   "outputs": [
    {
     "data": {
      "text/plain": [
       "6"
      ]
     },
     "execution_count": 349,
     "metadata": {},
     "output_type": "execute_result"
    }
   ],
   "source": [
    "label_list = nn.query(inputs)\n",
    "label = np.argmax(label_list)\n",
    "label"
   ]
  }
 ],
 "metadata": {
  "kernelspec": {
   "display_name": "Python 3",
   "language": "python",
   "name": "python3"
  },
  "language_info": {
   "codemirror_mode": {
    "name": "ipython",
    "version": 3
   },
   "file_extension": ".py",
   "mimetype": "text/x-python",
   "name": "python",
   "nbconvert_exporter": "python",
   "pygments_lexer": "ipython3",
   "version": "3.6.5"
  }
 },
 "nbformat": 4,
 "nbformat_minor": 2
}
